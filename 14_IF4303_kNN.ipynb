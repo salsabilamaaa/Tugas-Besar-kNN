{
  "nbformat": 4,
  "nbformat_minor": 0,
  "metadata": {
    "colab": {
      "name": "14 -IF4303 - kNN.ipynb",
      "provenance": [],
      "collapsed_sections": [
        "wgca25xdKQBx"
      ]
    },
    "kernelspec": {
      "display_name": "Python 3",
      "name": "python3"
    },
    "language_info": {
      "name": "python"
    }
  },
  "cells": [
    {
      "cell_type": "markdown",
      "metadata": {
        "id": "j35I_7UQ4fsg"
      },
      "source": [
        "Kelompok 14\n",
        "1. Imam Rasyidin Syaputra (1301194448)\n",
        "2. Muhammad Rafi Rahadian (1301194462)\n",
        "3. Salsabila Martono (1301194469)"
      ]
    },
    {
      "cell_type": "markdown",
      "metadata": {
        "id": "3EBfbIqN42_U"
      },
      "source": [
        "Download data test yang diberikan"
      ]
    },
    {
      "cell_type": "code",
      "metadata": {
        "colab": {
          "base_uri": "https://localhost:8080/"
        },
        "id": "rdz5BQiuAlLg",
        "outputId": "b1f70aad-4ccc-42ed-d2f0-870a5c66c214"
      },
      "source": [
        "!gdown --id 1veoLpJWTuAPOLA9DBVRhlRwZ7tH3imir"
      ],
      "execution_count": null,
      "outputs": [
        {
          "output_type": "stream",
          "text": [
            "Downloading...\n",
            "From: https://drive.google.com/uc?id=1veoLpJWTuAPOLA9DBVRhlRwZ7tH3imir\n",
            "To: /content/mobil.xls\n",
            "\r  0% 0.00/29.2k [00:00<?, ?B/s]\r100% 29.2k/29.2k [00:00<00:00, 53.0MB/s]\n"
          ],
          "name": "stdout"
        }
      ]
    },
    {
      "cell_type": "code",
      "metadata": {
        "colab": {
          "base_uri": "https://localhost:8080/",
          "height": 359
        },
        "id": "FWNiN5taCV7i",
        "outputId": "737fc656-76ab-4c0f-d9a1-64747e6f694b"
      },
      "source": [
        "import pandas as pd\n",
        "from math import sqrt\n",
        "\n",
        "\n",
        "df = pd.read_excel(\"mobil.xls\")\n",
        "\n",
        "df.sample(10)"
      ],
      "execution_count": null,
      "outputs": [
        {
          "output_type": "execute_result",
          "data": {
            "text/html": [
              "<div>\n",
              "<style scoped>\n",
              "    .dataframe tbody tr th:only-of-type {\n",
              "        vertical-align: middle;\n",
              "    }\n",
              "\n",
              "    .dataframe tbody tr th {\n",
              "        vertical-align: top;\n",
              "    }\n",
              "\n",
              "    .dataframe thead th {\n",
              "        text-align: right;\n",
              "    }\n",
              "</style>\n",
              "<table border=\"1\" class=\"dataframe\">\n",
              "  <thead>\n",
              "    <tr style=\"text-align: right;\">\n",
              "      <th></th>\n",
              "      <th>Nama Mobil</th>\n",
              "      <th>Ukuran</th>\n",
              "      <th>Kenyamanan</th>\n",
              "      <th>Irit</th>\n",
              "      <th>Kecepatan</th>\n",
              "      <th>Harga (Ratus Juta)</th>\n",
              "    </tr>\n",
              "  </thead>\n",
              "  <tbody>\n",
              "    <tr>\n",
              "      <th>2</th>\n",
              "      <td>Toyota Avanza</td>\n",
              "      <td>6</td>\n",
              "      <td>5</td>\n",
              "      <td>6</td>\n",
              "      <td>6</td>\n",
              "      <td>2.0</td>\n",
              "    </tr>\n",
              "    <tr>\n",
              "      <th>11</th>\n",
              "      <td>Toyota Hiace</td>\n",
              "      <td>10</td>\n",
              "      <td>5</td>\n",
              "      <td>8</td>\n",
              "      <td>6</td>\n",
              "      <td>5.0</td>\n",
              "    </tr>\n",
              "    <tr>\n",
              "      <th>10</th>\n",
              "      <td>Honda City</td>\n",
              "      <td>5</td>\n",
              "      <td>8</td>\n",
              "      <td>7</td>\n",
              "      <td>8</td>\n",
              "      <td>2.7</td>\n",
              "    </tr>\n",
              "    <tr>\n",
              "      <th>6</th>\n",
              "      <td>Karimun</td>\n",
              "      <td>3</td>\n",
              "      <td>4</td>\n",
              "      <td>10</td>\n",
              "      <td>5</td>\n",
              "      <td>1.2</td>\n",
              "    </tr>\n",
              "    <tr>\n",
              "      <th>7</th>\n",
              "      <td>Toyota Innova</td>\n",
              "      <td>8</td>\n",
              "      <td>8</td>\n",
              "      <td>5</td>\n",
              "      <td>7</td>\n",
              "      <td>4.0</td>\n",
              "    </tr>\n",
              "    <tr>\n",
              "      <th>12</th>\n",
              "      <td>Toyota Fortuner</td>\n",
              "      <td>9</td>\n",
              "      <td>8</td>\n",
              "      <td>5</td>\n",
              "      <td>8</td>\n",
              "      <td>5.0</td>\n",
              "    </tr>\n",
              "    <tr>\n",
              "      <th>13</th>\n",
              "      <td>Toyota Foxy</td>\n",
              "      <td>9</td>\n",
              "      <td>9</td>\n",
              "      <td>5</td>\n",
              "      <td>7</td>\n",
              "      <td>5.5</td>\n",
              "    </tr>\n",
              "    <tr>\n",
              "      <th>1</th>\n",
              "      <td>Daihatsu Alya</td>\n",
              "      <td>4</td>\n",
              "      <td>3</td>\n",
              "      <td>9</td>\n",
              "      <td>6</td>\n",
              "      <td>1.1</td>\n",
              "    </tr>\n",
              "    <tr>\n",
              "      <th>5</th>\n",
              "      <td>Livina</td>\n",
              "      <td>7</td>\n",
              "      <td>7</td>\n",
              "      <td>6</td>\n",
              "      <td>7</td>\n",
              "      <td>2.1</td>\n",
              "    </tr>\n",
              "    <tr>\n",
              "      <th>15</th>\n",
              "      <td>Suzuki Ertiga</td>\n",
              "      <td>7</td>\n",
              "      <td>7</td>\n",
              "      <td>7</td>\n",
              "      <td>7</td>\n",
              "      <td>2.3</td>\n",
              "    </tr>\n",
              "  </tbody>\n",
              "</table>\n",
              "</div>"
            ],
            "text/plain": [
              "         Nama Mobil  Ukuran  Kenyamanan  Irit  Kecepatan  Harga (Ratus Juta)\n",
              "2     Toyota Avanza       6           5     6          6                 2.0\n",
              "11     Toyota Hiace      10           5     8          6                 5.0\n",
              "10       Honda City       5           8     7          8                 2.7\n",
              "6           Karimun       3           4    10          5                 1.2\n",
              "7     Toyota Innova       8           8     5          7                 4.0\n",
              "12  Toyota Fortuner       9           8     5          8                 5.0\n",
              "13      Toyota Foxy       9           9     5          7                 5.5\n",
              "1     Daihatsu Alya       4           3     9          6                 1.1\n",
              "5            Livina       7           7     6          7                 2.1\n",
              "15    Suzuki Ertiga       7           7     7          7                 2.3"
            ]
          },
          "metadata": {
            "tags": []
          },
          "execution_count": 15
        }
      ]
    },
    {
      "cell_type": "code",
      "metadata": {
        "colab": {
          "base_uri": "https://localhost:8080/",
          "height": 297
        },
        "id": "Jy8eXqcRmRFF",
        "outputId": "6b8e8d0e-6bce-455e-b2f6-f581d76fbd62"
      },
      "source": [
        "#summary table mobil.xls\n",
        "df.describe()"
      ],
      "execution_count": null,
      "outputs": [
        {
          "output_type": "execute_result",
          "data": {
            "text/html": [
              "<div>\n",
              "<style scoped>\n",
              "    .dataframe tbody tr th:only-of-type {\n",
              "        vertical-align: middle;\n",
              "    }\n",
              "\n",
              "    .dataframe tbody tr th {\n",
              "        vertical-align: top;\n",
              "    }\n",
              "\n",
              "    .dataframe thead th {\n",
              "        text-align: right;\n",
              "    }\n",
              "</style>\n",
              "<table border=\"1\" class=\"dataframe\">\n",
              "  <thead>\n",
              "    <tr style=\"text-align: right;\">\n",
              "      <th></th>\n",
              "      <th>Ukuran</th>\n",
              "      <th>Kenyamanan</th>\n",
              "      <th>Irit</th>\n",
              "      <th>Kecepatan</th>\n",
              "      <th>Harga (Ratus Juta)</th>\n",
              "    </tr>\n",
              "  </thead>\n",
              "  <tbody>\n",
              "    <tr>\n",
              "      <th>count</th>\n",
              "      <td>17.000000</td>\n",
              "      <td>17.000000</td>\n",
              "      <td>17.000000</td>\n",
              "      <td>17.000000</td>\n",
              "      <td>17.000000</td>\n",
              "    </tr>\n",
              "    <tr>\n",
              "      <th>mean</th>\n",
              "      <td>6.529412</td>\n",
              "      <td>6.352941</td>\n",
              "      <td>6.941176</td>\n",
              "      <td>6.823529</td>\n",
              "      <td>3.247059</td>\n",
              "    </tr>\n",
              "    <tr>\n",
              "      <th>std</th>\n",
              "      <td>2.034627</td>\n",
              "      <td>2.234423</td>\n",
              "      <td>1.784327</td>\n",
              "      <td>1.131111</td>\n",
              "      <td>2.406597</td>\n",
              "    </tr>\n",
              "    <tr>\n",
              "      <th>min</th>\n",
              "      <td>3.000000</td>\n",
              "      <td>3.000000</td>\n",
              "      <td>4.000000</td>\n",
              "      <td>5.000000</td>\n",
              "      <td>0.800000</td>\n",
              "    </tr>\n",
              "    <tr>\n",
              "      <th>25%</th>\n",
              "      <td>5.000000</td>\n",
              "      <td>4.000000</td>\n",
              "      <td>6.000000</td>\n",
              "      <td>6.000000</td>\n",
              "      <td>1.750000</td>\n",
              "    </tr>\n",
              "    <tr>\n",
              "      <th>50%</th>\n",
              "      <td>7.000000</td>\n",
              "      <td>7.000000</td>\n",
              "      <td>7.000000</td>\n",
              "      <td>7.000000</td>\n",
              "      <td>2.300000</td>\n",
              "    </tr>\n",
              "    <tr>\n",
              "      <th>75%</th>\n",
              "      <td>8.000000</td>\n",
              "      <td>8.000000</td>\n",
              "      <td>9.000000</td>\n",
              "      <td>8.000000</td>\n",
              "      <td>5.000000</td>\n",
              "    </tr>\n",
              "    <tr>\n",
              "      <th>max</th>\n",
              "      <td>10.000000</td>\n",
              "      <td>10.000000</td>\n",
              "      <td>10.000000</td>\n",
              "      <td>9.000000</td>\n",
              "      <td>10.000000</td>\n",
              "    </tr>\n",
              "  </tbody>\n",
              "</table>\n",
              "</div>"
            ],
            "text/plain": [
              "          Ukuran  Kenyamanan       Irit  Kecepatan  Harga (Ratus Juta)\n",
              "count  17.000000   17.000000  17.000000  17.000000           17.000000\n",
              "mean    6.529412    6.352941   6.941176   6.823529            3.247059\n",
              "std     2.034627    2.234423   1.784327   1.131111            2.406597\n",
              "min     3.000000    3.000000   4.000000   5.000000            0.800000\n",
              "25%     5.000000    4.000000   6.000000   6.000000            1.750000\n",
              "50%     7.000000    7.000000   7.000000   7.000000            2.300000\n",
              "75%     8.000000    8.000000   9.000000   8.000000            5.000000\n",
              "max    10.000000   10.000000  10.000000   9.000000           10.000000"
            ]
          },
          "metadata": {
            "tags": []
          },
          "execution_count": 16
        }
      ]
    },
    {
      "cell_type": "code",
      "metadata": {
        "colab": {
          "base_uri": "https://localhost:8080/"
        },
        "id": "ytD-anRz5Rfi",
        "outputId": "b570c728-a9b4-4e0f-ac00-b5d1feb1c859"
      },
      "source": [
        "#info table mobil.xls\n",
        "df.info()"
      ],
      "execution_count": null,
      "outputs": [
        {
          "output_type": "stream",
          "text": [
            "<class 'pandas.core.frame.DataFrame'>\n",
            "RangeIndex: 17 entries, 0 to 16\n",
            "Data columns (total 6 columns):\n",
            " #   Column              Non-Null Count  Dtype  \n",
            "---  ------              --------------  -----  \n",
            " 0   Nama Mobil          17 non-null     object \n",
            " 1   Ukuran              17 non-null     int64  \n",
            " 2   Kenyamanan          17 non-null     int64  \n",
            " 3   Irit                17 non-null     int64  \n",
            " 4   Kecepatan           17 non-null     int64  \n",
            " 5   Harga (Ratus Juta)  17 non-null     float64\n",
            "dtypes: float64(1), int64(4), object(1)\n",
            "memory usage: 944.0+ bytes\n"
          ],
          "name": "stdout"
        }
      ]
    },
    {
      "cell_type": "markdown",
      "metadata": {
        "id": "EFicsysY5aaB"
      },
      "source": [
        "Table mobil.xls yang disimpan dalam varibel df bertipe Data Frame yang memiliki range data sebanyak 17 baris dengan 6 kolom"
      ]
    },
    {
      "cell_type": "markdown",
      "metadata": {
        "id": "XNqLSq8tG7z8"
      },
      "source": [
        "\n",
        "## Pre Processing"
      ]
    },
    {
      "cell_type": "code",
      "metadata": {
        "colab": {
          "base_uri": "https://localhost:8080/"
        },
        "id": "UHQOSsqgKZ9j",
        "outputId": "cca0e397-78a4-44a1-a5b1-166d1575d8d8"
      },
      "source": [
        "#Mengecek data yang hilang\n",
        "df.isna().sum()"
      ],
      "execution_count": null,
      "outputs": [
        {
          "output_type": "execute_result",
          "data": {
            "text/plain": [
              "Nama Mobil            0\n",
              "Ukuran                0\n",
              "Kenyamanan            0\n",
              "Irit                  0\n",
              "Kecepatan             0\n",
              "Harga (Ratus Juta)    0\n",
              "dtype: int64"
            ]
          },
          "metadata": {
            "tags": []
          },
          "execution_count": 18
        }
      ]
    },
    {
      "cell_type": "markdown",
      "metadata": {
        "id": "fDO195dxKibv"
      },
      "source": [
        "Dari hasil pengecekan, tidak ada data yang hilang atau kosong"
      ]
    },
    {
      "cell_type": "code",
      "metadata": {
        "colab": {
          "base_uri": "https://localhost:8080/",
          "height": 576
        },
        "id": "Pu9ZjWICH_2J",
        "outputId": "591ac924-3014-4695-efa5-e3cd5e0bf4e7"
      },
      "source": [
        "#drop dan rename labels in column\n",
        "df.rename(columns={\"Harga (Ratus Juta)\": \"Harga\"}, inplace=True)\n",
        "\n",
        "test = df.drop(labels='Nama Mobil', axis=1)  #Harga pada data test akan di normalisasikan\n",
        "\n",
        "test"
      ],
      "execution_count": null,
      "outputs": [
        {
          "output_type": "execute_result",
          "data": {
            "text/html": [
              "<div>\n",
              "<style scoped>\n",
              "    .dataframe tbody tr th:only-of-type {\n",
              "        vertical-align: middle;\n",
              "    }\n",
              "\n",
              "    .dataframe tbody tr th {\n",
              "        vertical-align: top;\n",
              "    }\n",
              "\n",
              "    .dataframe thead th {\n",
              "        text-align: right;\n",
              "    }\n",
              "</style>\n",
              "<table border=\"1\" class=\"dataframe\">\n",
              "  <thead>\n",
              "    <tr style=\"text-align: right;\">\n",
              "      <th></th>\n",
              "      <th>Ukuran</th>\n",
              "      <th>Kenyamanan</th>\n",
              "      <th>Irit</th>\n",
              "      <th>Kecepatan</th>\n",
              "      <th>Harga</th>\n",
              "    </tr>\n",
              "  </thead>\n",
              "  <tbody>\n",
              "    <tr>\n",
              "      <th>0</th>\n",
              "      <td>4</td>\n",
              "      <td>4</td>\n",
              "      <td>9</td>\n",
              "      <td>6</td>\n",
              "      <td>1.00</td>\n",
              "    </tr>\n",
              "    <tr>\n",
              "      <th>1</th>\n",
              "      <td>4</td>\n",
              "      <td>3</td>\n",
              "      <td>9</td>\n",
              "      <td>6</td>\n",
              "      <td>1.10</td>\n",
              "    </tr>\n",
              "    <tr>\n",
              "      <th>2</th>\n",
              "      <td>6</td>\n",
              "      <td>5</td>\n",
              "      <td>6</td>\n",
              "      <td>6</td>\n",
              "      <td>2.00</td>\n",
              "    </tr>\n",
              "    <tr>\n",
              "      <th>3</th>\n",
              "      <td>6</td>\n",
              "      <td>4</td>\n",
              "      <td>6</td>\n",
              "      <td>6</td>\n",
              "      <td>1.75</td>\n",
              "    </tr>\n",
              "    <tr>\n",
              "      <th>4</th>\n",
              "      <td>7</td>\n",
              "      <td>7</td>\n",
              "      <td>6</td>\n",
              "      <td>7</td>\n",
              "      <td>2.25</td>\n",
              "    </tr>\n",
              "    <tr>\n",
              "      <th>5</th>\n",
              "      <td>7</td>\n",
              "      <td>7</td>\n",
              "      <td>6</td>\n",
              "      <td>7</td>\n",
              "      <td>2.10</td>\n",
              "    </tr>\n",
              "    <tr>\n",
              "      <th>6</th>\n",
              "      <td>3</td>\n",
              "      <td>4</td>\n",
              "      <td>10</td>\n",
              "      <td>5</td>\n",
              "      <td>1.20</td>\n",
              "    </tr>\n",
              "    <tr>\n",
              "      <th>7</th>\n",
              "      <td>8</td>\n",
              "      <td>8</td>\n",
              "      <td>5</td>\n",
              "      <td>7</td>\n",
              "      <td>4.00</td>\n",
              "    </tr>\n",
              "    <tr>\n",
              "      <th>8</th>\n",
              "      <td>9</td>\n",
              "      <td>10</td>\n",
              "      <td>4</td>\n",
              "      <td>8</td>\n",
              "      <td>10.00</td>\n",
              "    </tr>\n",
              "    <tr>\n",
              "      <th>9</th>\n",
              "      <td>5</td>\n",
              "      <td>7</td>\n",
              "      <td>9</td>\n",
              "      <td>8</td>\n",
              "      <td>2.50</td>\n",
              "    </tr>\n",
              "    <tr>\n",
              "      <th>10</th>\n",
              "      <td>5</td>\n",
              "      <td>8</td>\n",
              "      <td>7</td>\n",
              "      <td>8</td>\n",
              "      <td>2.70</td>\n",
              "    </tr>\n",
              "    <tr>\n",
              "      <th>11</th>\n",
              "      <td>10</td>\n",
              "      <td>5</td>\n",
              "      <td>8</td>\n",
              "      <td>6</td>\n",
              "      <td>5.00</td>\n",
              "    </tr>\n",
              "    <tr>\n",
              "      <th>12</th>\n",
              "      <td>9</td>\n",
              "      <td>8</td>\n",
              "      <td>5</td>\n",
              "      <td>8</td>\n",
              "      <td>5.00</td>\n",
              "    </tr>\n",
              "    <tr>\n",
              "      <th>13</th>\n",
              "      <td>9</td>\n",
              "      <td>9</td>\n",
              "      <td>5</td>\n",
              "      <td>7</td>\n",
              "      <td>5.50</td>\n",
              "    </tr>\n",
              "    <tr>\n",
              "      <th>14</th>\n",
              "      <td>5</td>\n",
              "      <td>9</td>\n",
              "      <td>7</td>\n",
              "      <td>9</td>\n",
              "      <td>6.00</td>\n",
              "    </tr>\n",
              "    <tr>\n",
              "      <th>15</th>\n",
              "      <td>7</td>\n",
              "      <td>7</td>\n",
              "      <td>7</td>\n",
              "      <td>7</td>\n",
              "      <td>2.30</td>\n",
              "    </tr>\n",
              "    <tr>\n",
              "      <th>16</th>\n",
              "      <td>7</td>\n",
              "      <td>3</td>\n",
              "      <td>9</td>\n",
              "      <td>5</td>\n",
              "      <td>0.80</td>\n",
              "    </tr>\n",
              "  </tbody>\n",
              "</table>\n",
              "</div>"
            ],
            "text/plain": [
              "    Ukuran  Kenyamanan  Irit  Kecepatan  Harga\n",
              "0        4           4     9          6   1.00\n",
              "1        4           3     9          6   1.10\n",
              "2        6           5     6          6   2.00\n",
              "3        6           4     6          6   1.75\n",
              "4        7           7     6          7   2.25\n",
              "5        7           7     6          7   2.10\n",
              "6        3           4    10          5   1.20\n",
              "7        8           8     5          7   4.00\n",
              "8        9          10     4          8  10.00\n",
              "9        5           7     9          8   2.50\n",
              "10       5           8     7          8   2.70\n",
              "11      10           5     8          6   5.00\n",
              "12       9           8     5          8   5.00\n",
              "13       9           9     5          7   5.50\n",
              "14       5           9     7          9   6.00\n",
              "15       7           7     7          7   2.30\n",
              "16       7           3     9          5   0.80"
            ]
          },
          "metadata": {
            "tags": []
          },
          "execution_count": 19
        }
      ]
    },
    {
      "cell_type": "code",
      "metadata": {
        "colab": {
          "base_uri": "https://localhost:8080/",
          "height": 665
        },
        "id": "d66h_37KmA74",
        "outputId": "cea7db92-eb18-4023-fbc4-0a1b9ffe67d0"
      },
      "source": [
        "#Menormalisasikan harga menjadi di rentang 0-10\n",
        "for i in range(len(test)):\n",
        "    test[\"Harga\"][i] = ((test[\"Harga\"][i] - test[\"Harga\"].min()) / (test[\"Harga\"].max() - test[\"Harga\"].min()))*10\n",
        "\n",
        "test"
      ],
      "execution_count": null,
      "outputs": [
        {
          "output_type": "stream",
          "text": [
            "/usr/local/lib/python3.7/dist-packages/ipykernel_launcher.py:3: SettingWithCopyWarning: \n",
            "A value is trying to be set on a copy of a slice from a DataFrame\n",
            "\n",
            "See the caveats in the documentation: https://pandas.pydata.org/pandas-docs/stable/user_guide/indexing.html#returning-a-view-versus-a-copy\n",
            "  This is separate from the ipykernel package so we can avoid doing imports until\n"
          ],
          "name": "stderr"
        },
        {
          "output_type": "execute_result",
          "data": {
            "text/html": [
              "<div>\n",
              "<style scoped>\n",
              "    .dataframe tbody tr th:only-of-type {\n",
              "        vertical-align: middle;\n",
              "    }\n",
              "\n",
              "    .dataframe tbody tr th {\n",
              "        vertical-align: top;\n",
              "    }\n",
              "\n",
              "    .dataframe thead th {\n",
              "        text-align: right;\n",
              "    }\n",
              "</style>\n",
              "<table border=\"1\" class=\"dataframe\">\n",
              "  <thead>\n",
              "    <tr style=\"text-align: right;\">\n",
              "      <th></th>\n",
              "      <th>Ukuran</th>\n",
              "      <th>Kenyamanan</th>\n",
              "      <th>Irit</th>\n",
              "      <th>Kecepatan</th>\n",
              "      <th>Harga</th>\n",
              "    </tr>\n",
              "  </thead>\n",
              "  <tbody>\n",
              "    <tr>\n",
              "      <th>0</th>\n",
              "      <td>4</td>\n",
              "      <td>4</td>\n",
              "      <td>9</td>\n",
              "      <td>6</td>\n",
              "      <td>0.217391</td>\n",
              "    </tr>\n",
              "    <tr>\n",
              "      <th>1</th>\n",
              "      <td>4</td>\n",
              "      <td>3</td>\n",
              "      <td>9</td>\n",
              "      <td>6</td>\n",
              "      <td>0.902222</td>\n",
              "    </tr>\n",
              "    <tr>\n",
              "      <th>2</th>\n",
              "      <td>6</td>\n",
              "      <td>5</td>\n",
              "      <td>6</td>\n",
              "      <td>6</td>\n",
              "      <td>1.822222</td>\n",
              "    </tr>\n",
              "    <tr>\n",
              "      <th>3</th>\n",
              "      <td>6</td>\n",
              "      <td>4</td>\n",
              "      <td>6</td>\n",
              "      <td>6</td>\n",
              "      <td>1.566667</td>\n",
              "    </tr>\n",
              "    <tr>\n",
              "      <th>4</th>\n",
              "      <td>7</td>\n",
              "      <td>7</td>\n",
              "      <td>6</td>\n",
              "      <td>7</td>\n",
              "      <td>2.077778</td>\n",
              "    </tr>\n",
              "    <tr>\n",
              "      <th>5</th>\n",
              "      <td>7</td>\n",
              "      <td>7</td>\n",
              "      <td>6</td>\n",
              "      <td>7</td>\n",
              "      <td>1.924444</td>\n",
              "    </tr>\n",
              "    <tr>\n",
              "      <th>6</th>\n",
              "      <td>3</td>\n",
              "      <td>4</td>\n",
              "      <td>10</td>\n",
              "      <td>5</td>\n",
              "      <td>1.004444</td>\n",
              "    </tr>\n",
              "    <tr>\n",
              "      <th>7</th>\n",
              "      <td>8</td>\n",
              "      <td>8</td>\n",
              "      <td>5</td>\n",
              "      <td>7</td>\n",
              "      <td>3.866667</td>\n",
              "    </tr>\n",
              "    <tr>\n",
              "      <th>8</th>\n",
              "      <td>9</td>\n",
              "      <td>10</td>\n",
              "      <td>4</td>\n",
              "      <td>8</td>\n",
              "      <td>10.000000</td>\n",
              "    </tr>\n",
              "    <tr>\n",
              "      <th>9</th>\n",
              "      <td>5</td>\n",
              "      <td>7</td>\n",
              "      <td>9</td>\n",
              "      <td>8</td>\n",
              "      <td>2.333333</td>\n",
              "    </tr>\n",
              "    <tr>\n",
              "      <th>10</th>\n",
              "      <td>5</td>\n",
              "      <td>8</td>\n",
              "      <td>7</td>\n",
              "      <td>8</td>\n",
              "      <td>2.537778</td>\n",
              "    </tr>\n",
              "    <tr>\n",
              "      <th>11</th>\n",
              "      <td>10</td>\n",
              "      <td>5</td>\n",
              "      <td>8</td>\n",
              "      <td>6</td>\n",
              "      <td>4.888889</td>\n",
              "    </tr>\n",
              "    <tr>\n",
              "      <th>12</th>\n",
              "      <td>9</td>\n",
              "      <td>8</td>\n",
              "      <td>5</td>\n",
              "      <td>8</td>\n",
              "      <td>4.888889</td>\n",
              "    </tr>\n",
              "    <tr>\n",
              "      <th>13</th>\n",
              "      <td>9</td>\n",
              "      <td>9</td>\n",
              "      <td>5</td>\n",
              "      <td>7</td>\n",
              "      <td>5.400000</td>\n",
              "    </tr>\n",
              "    <tr>\n",
              "      <th>14</th>\n",
              "      <td>5</td>\n",
              "      <td>9</td>\n",
              "      <td>7</td>\n",
              "      <td>9</td>\n",
              "      <td>5.911111</td>\n",
              "    </tr>\n",
              "    <tr>\n",
              "      <th>15</th>\n",
              "      <td>7</td>\n",
              "      <td>7</td>\n",
              "      <td>7</td>\n",
              "      <td>7</td>\n",
              "      <td>2.128889</td>\n",
              "    </tr>\n",
              "    <tr>\n",
              "      <th>16</th>\n",
              "      <td>7</td>\n",
              "      <td>3</td>\n",
              "      <td>9</td>\n",
              "      <td>5</td>\n",
              "      <td>0.595556</td>\n",
              "    </tr>\n",
              "  </tbody>\n",
              "</table>\n",
              "</div>"
            ],
            "text/plain": [
              "    Ukuran  Kenyamanan  Irit  Kecepatan      Harga\n",
              "0        4           4     9          6   0.217391\n",
              "1        4           3     9          6   0.902222\n",
              "2        6           5     6          6   1.822222\n",
              "3        6           4     6          6   1.566667\n",
              "4        7           7     6          7   2.077778\n",
              "5        7           7     6          7   1.924444\n",
              "6        3           4    10          5   1.004444\n",
              "7        8           8     5          7   3.866667\n",
              "8        9          10     4          8  10.000000\n",
              "9        5           7     9          8   2.333333\n",
              "10       5           8     7          8   2.537778\n",
              "11      10           5     8          6   4.888889\n",
              "12       9           8     5          8   4.888889\n",
              "13       9           9     5          7   5.400000\n",
              "14       5           9     7          9   5.911111\n",
              "15       7           7     7          7   2.128889\n",
              "16       7           3     9          5   0.595556"
            ]
          },
          "metadata": {
            "tags": []
          },
          "execution_count": 20
        }
      ]
    },
    {
      "cell_type": "markdown",
      "metadata": {
        "id": "wgca25xdKQBx"
      },
      "source": [
        "# Menghitung jarak menggunakan 4 metode\n",
        "\n",
        "1. Euclidean Distance\n",
        "2. Manhattan Distance\n",
        "3. Minkowski Distance\n",
        "4. Supremum Distance"
      ]
    },
    {
      "cell_type": "code",
      "metadata": {
        "id": "Kn7p1-6Vt6QM"
      },
      "source": [
        "#Euclidean Distance\n",
        "def euclidean_dist(test, train):\n",
        "    dist = sum([(test[i] - train[i])**2 for i in range(len(train))])\n",
        "    return round(sqrt(dist), 2)\n",
        "\n",
        "#Manhattan Distance\n",
        "def manhattan_dist(test,train):\n",
        "    dist = sum([abs(test[i] - train[i]) for i in range(len(train))])\n",
        "    return round(dist, 2)\n",
        "\n",
        "#Minkowksi Distance\n",
        "def minkowski_dist(test,train,p=2):\n",
        "    dist = sum([abs(test[i] - train[i])**p for i in range(len(train))])\n",
        "    return round((dist ** (1/p)), 2)\n",
        "  \n",
        "#Supremum Distance\n",
        "def supremum_dist(test, train):\n",
        "    return max([abs(test[i] - train[i]) for i in range(len(train))])"
      ],
      "execution_count": null,
      "outputs": []
    },
    {
      "cell_type": "markdown",
      "metadata": {
        "id": "XlDaAkfCKrjq"
      },
      "source": [
        "# Klasifikasi kNN \n",
        "Mencari 3 data yang berdekatan menggunakan metode euclidean, manhattan, minkowski, dan supremum. "
      ]
    },
    {
      "cell_type": "code",
      "metadata": {
        "id": "Q8esQ_771aqy"
      },
      "source": [
        "def kNN(test, train, k=3):\n",
        "    euclidean = []\n",
        "    manhattan = []\n",
        "    minkowski = []\n",
        "    supremum = []\n",
        "\n",
        "    for i in range(len(test)):\n",
        "        euclidean.append([euclidean_dist(test.iloc[i].tolist(), train), df['Nama Mobil'][i]])\n",
        "        manhattan.append([manhattan_dist(test.iloc[i].tolist(), train), df['Nama Mobil'][i]])\n",
        "        minkowski.append([minkowski_dist(test.iloc[i].tolist(), train), df['Nama Mobil'][i]])\n",
        "        supremum.append([supremum_dist(test.iloc[i].tolist(), train), df['Nama Mobil'][i]])\n",
        "    \n",
        "    euclidean = sorted(euclidean)[:k]\n",
        "    manhattan = sorted(manhattan)[:k]\n",
        "    minkowski = sorted(minkowski)[:k]\n",
        "    supremum = sorted(supremum)[:k]\n",
        "\n",
        "\n",
        "    return euclidean, manhattan, minkowski, supremum"
      ],
      "execution_count": null,
      "outputs": []
    },
    {
      "cell_type": "markdown",
      "metadata": {
        "id": "x6yvaHk6LAz_"
      },
      "source": [
        "# Program Utama\n",
        "Data train yang dicari disimpan dalam variabel, dan memanggil fungsi kNN yang sudah dibuat sebelumnya"
      ]
    },
    {
      "cell_type": "code",
      "metadata": {
        "id": "oKI-uy_lXhx4"
      },
      "source": [
        "#Variabel yang digunakan dan data train yang akan di uji cobakan\n",
        "train = [4, 5, 9, 5.5, 1]\n",
        "euclidean = []\n",
        "manhattan = []\n",
        "minkowski = []\n",
        "supremum = []\n",
        "\n",
        "euclidean, manhattan, minkowski, supremum = kNN(test, train)"
      ],
      "execution_count": null,
      "outputs": []
    },
    {
      "cell_type": "markdown",
      "metadata": {
        "id": "utgN-7hcNofr"
      },
      "source": [
        "Mengeluarkan file rekomendasi mobil dari setiap metode "
      ]
    },
    {
      "cell_type": "code",
      "metadata": {
        "colab": {
          "base_uri": "https://localhost:8080/",
          "height": 569
        },
        "id": "7LqIpKd-JW3j",
        "outputId": "5f133a49-c42a-428c-dbc2-d2e122a5015c"
      },
      "source": [
        "data = [[\"Euclidean\", euclidean], [\"Manhattan\", manhattan], [\"Minkowski\", minkowski], [\"Supremum\", supremum]]\n",
        "recommended = []\n",
        "recommended = pd.DataFrame(recommended)\n",
        "for dist in data:\n",
        "      print(f'\\n{dist[0]} Distance')\n",
        "      print(\"--------------------------------------------------\")\n",
        "      \n",
        "      recommend = []\n",
        "\n",
        "      for i, mobil in enumerate(dist[1]):\n",
        "          print(f'{i+1}. {mobil[1]}, Jarak : {mobil[0]}')\n",
        "          recommend.append(mobil[1])\n",
        "      \n",
        "      recommend = pd.DataFrame(recommend)\n",
        "      recommend.rename(columns={0 : f\"{dist[0]}\"}, inplace=True)\n",
        "      recommended = pd.concat([recommended, recommend], axis=1)\n",
        "      \n",
        "recommended.to_excel('Rekomendasi.xls', index=False)\n",
        "recommended"
      ],
      "execution_count": null,
      "outputs": [
        {
          "output_type": "stream",
          "text": [
            "\n",
            "Euclidean Distance\n",
            "--------------------------------------------------\n",
            "1. Toyota Agya, Jarak : 1.36\n",
            "2. Karimun, Jarak : 1.8\n",
            "3. Daihatsu Alya, Jarak : 2.06\n",
            "\n",
            "Manhattan Distance\n",
            "--------------------------------------------------\n",
            "1. Toyota Agya, Jarak : 2.28\n",
            "2. Daihatsu Alya, Jarak : 2.6\n",
            "3. Karimun, Jarak : 3.5\n",
            "\n",
            "Minkowski Distance\n",
            "--------------------------------------------------\n",
            "1. Toyota Agya, Jarak : 1.36\n",
            "2. Karimun, Jarak : 1.8\n",
            "3. Daihatsu Alya, Jarak : 2.06\n",
            "\n",
            "Supremum Distance\n",
            "--------------------------------------------------\n",
            "1. Karimun, Jarak : 1.0\n",
            "2. Toyota Agya, Jarak : 1.0\n",
            "3. Daihatsu Alya, Jarak : 2.0\n"
          ],
          "name": "stdout"
        },
        {
          "output_type": "execute_result",
          "data": {
            "text/html": [
              "<div>\n",
              "<style scoped>\n",
              "    .dataframe tbody tr th:only-of-type {\n",
              "        vertical-align: middle;\n",
              "    }\n",
              "\n",
              "    .dataframe tbody tr th {\n",
              "        vertical-align: top;\n",
              "    }\n",
              "\n",
              "    .dataframe thead th {\n",
              "        text-align: right;\n",
              "    }\n",
              "</style>\n",
              "<table border=\"1\" class=\"dataframe\">\n",
              "  <thead>\n",
              "    <tr style=\"text-align: right;\">\n",
              "      <th></th>\n",
              "      <th>Euclidean</th>\n",
              "      <th>Manhattan</th>\n",
              "      <th>Minkowski</th>\n",
              "      <th>Supremum</th>\n",
              "    </tr>\n",
              "  </thead>\n",
              "  <tbody>\n",
              "    <tr>\n",
              "      <th>0</th>\n",
              "      <td>Toyota Agya</td>\n",
              "      <td>Toyota Agya</td>\n",
              "      <td>Toyota Agya</td>\n",
              "      <td>Karimun</td>\n",
              "    </tr>\n",
              "    <tr>\n",
              "      <th>1</th>\n",
              "      <td>Karimun</td>\n",
              "      <td>Daihatsu Alya</td>\n",
              "      <td>Karimun</td>\n",
              "      <td>Toyota Agya</td>\n",
              "    </tr>\n",
              "    <tr>\n",
              "      <th>2</th>\n",
              "      <td>Daihatsu Alya</td>\n",
              "      <td>Karimun</td>\n",
              "      <td>Daihatsu Alya</td>\n",
              "      <td>Daihatsu Alya</td>\n",
              "    </tr>\n",
              "  </tbody>\n",
              "</table>\n",
              "</div>"
            ],
            "text/plain": [
              "       Euclidean      Manhattan      Minkowski       Supremum\n",
              "0    Toyota Agya    Toyota Agya    Toyota Agya        Karimun\n",
              "1        Karimun  Daihatsu Alya        Karimun    Toyota Agya\n",
              "2  Daihatsu Alya        Karimun  Daihatsu Alya  Daihatsu Alya"
            ]
          },
          "metadata": {
            "tags": []
          },
          "execution_count": 28
        }
      ]
    }
  ]
}